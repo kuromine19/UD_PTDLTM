{
  "cells": [
    {
      "cell_type": "code",
      "execution_count": 36,
      "metadata": {
        "colab": {
          "base_uri": "https://localhost:8080/"
        },
        "id": "Rh6YkLbAhnzW",
        "outputId": "ed03e3b9-e388-4749-82e1-30dd673a63d6"
      },
      "outputs": [
        {
          "name": "stdout",
          "output_type": "stream",
          "text": [
            "Reading package lists... Done\n",
            "E: Could not open lock file /var/lib/apt/lists/lock - open (13: Permission denied)\n",
            "E: Unable to lock directory /var/lib/apt/lists/\n",
            "W: Problem unlinking the file /var/cache/apt/pkgcache.bin - RemoveCaches (13: Permission denied)\n",
            "W: Problem unlinking the file /var/cache/apt/srcpkgcache.bin - RemoveCaches (13: Permission denied)\n",
            "E: Could not open lock file /var/lib/dpkg/lock-frontend - open (13: Permission denied)\n",
            "E: Unable to acquire the dpkg frontend lock (/var/lib/dpkg/lock-frontend), are you root?\n",
            "\u001b[1;31mE: \u001b[0mCould not open lock file /var/lib/dpkg/lock-frontend - open (13: Permission denied)\u001b[0m\n",
            "\u001b[1;31mE: \u001b[0mUnable to acquire the dpkg frontend lock (/var/lib/dpkg/lock-frontend), are you root?\u001b[0m\n"
          ]
        }
      ],
      "source": [
        "!apt-get update\n",
        "!apt-get install -y chromium-browser\n",
        "!apt install chromium-chromedriver"
      ]
    },
    {
      "cell_type": "code",
      "execution_count": 37,
      "metadata": {
        "id": "ld0q_4rgkh-Z"
      },
      "outputs": [],
      "source": [
        "from selenium import webdriver\n",
        "import pandas as pd"
      ]
    },
    {
      "cell_type": "code",
      "execution_count": 38,
      "metadata": {
        "colab": {
          "base_uri": "https://localhost:8080/"
        },
        "id": "9sPAguNfnprE",
        "outputId": "74a3c73a-1e22-4afa-eddd-83cee95b2bd2"
      },
      "outputs": [
        {
          "name": "stdout",
          "output_type": "stream",
          "text": [
            "/usr/lib/chromium-browser/chromedriver\n"
          ]
        }
      ],
      "source": [
        "!ls /usr/lib/chromium-browser/chromedriver"
      ]
    },
    {
      "cell_type": "code",
      "execution_count": 39,
      "metadata": {
        "id": "WsAjqs9ZpZhK"
      },
      "outputs": [],
      "source": [
        "import sys\n",
        "sys.path.insert(0,'/usr/lib/chromium-browser/chromedriver')"
      ]
    },
    {
      "cell_type": "code",
      "execution_count": 40,
      "metadata": {
        "id": "9IWM28Itrbgv"
      },
      "outputs": [],
      "source": [
        "from selenium.webdriver.common.keys import Keys\n",
        "from selenium.webdriver.common.by import By\n",
        "from selenium.webdriver.support.ui import Select\n"
      ]
    },
    {
      "cell_type": "code",
      "execution_count": 41,
      "metadata": {
        "id": "GLWKj39RlC5h"
      },
      "outputs": [],
      "source": [
        "chrome_options = webdriver.ChromeOptions()\n",
        "chrome_options.add_argument('--headless')\n",
        "chrome_options.add_argument('--no-sandbox')\n",
        "chrome_options.headless = True\n",
        "driver = webdriver.Chrome(options=chrome_options)\n",
        "driver.get(\"https://store.steampowered.com/charts/mostplayed\")"
      ]
    },
    {
      "cell_type": "code",
      "execution_count": 42,
      "metadata": {
        "id": "6VYJcxYVrqEg"
      },
      "outputs": [],
      "source": [
        "from selenium.webdriver.common.action_chains import ActionChains\n"
      ]
    },
    {
      "cell_type": "code",
      "execution_count": 43,
      "metadata": {
        "id": "EpjqLCHQYjeZ"
      },
      "outputs": [],
      "source": [
        "class_name_of_rank_game = \"weeklytopsellers_RankCell_34h48\"\n",
        "class_name_of_link_game = \"weeklytopsellers_TopChartItem_2C5PJ\"\n",
        "class_name_of_name_game = \"weeklytopsellers_GameName_1n_4-\"\n",
        "class_name_of_price_game = \"weeklytopsellers_PriceCell_3IyfU\"\n",
        "class_name_of_current_player = \"weeklytopsellers_ConcurrentCell_3L0CD\"\n",
        "class_name_of_peak_player = \"weeklytopsellers_PeakInGameCell_yJB7D\""
      ]
    },
    {
      "cell_type": "code",
      "execution_count": 44,
      "metadata": {
        "id": "hEBEZowNfxHI"
      },
      "outputs": [],
      "source": [
        "# rank_game_elements = driver.find_elements(By.CLASS_NAME, class_name_of_rank_game)\n",
        "rank_games=[]\n",
        "while len(rank_games)==0:\n",
        "    rank_games = [element.text for element in driver.find_elements(By.CLASS_NAME, class_name_of_rank_game)]\n",
        "    name_games = [element.text for element in driver.find_elements(By.CLASS_NAME, class_name_of_name_game)]\n",
        "    price_games = [element.text for element in driver.find_elements(By.CLASS_NAME, class_name_of_price_game)]\n",
        "    current_players = [element.text for element in driver.find_elements(By.CLASS_NAME, class_name_of_current_player)]\n",
        "    peak_players = [element.text for element in driver.find_elements(By.CLASS_NAME, class_name_of_peak_player)]\n",
        "    link_games = [element.get_attribute(\"href\") for element in  driver.find_elements(By.CLASS_NAME, class_name_of_link_game)]"
      ]
    },
    {
      "cell_type": "code",
      "execution_count": 45,
      "metadata": {
        "id": "I5W0dF4jgLSS"
      },
      "outputs": [],
      "source": [
        "data = {\"rank\": rank_games,\n",
        "        \"name\": name_games,\n",
        "        \"price\": price_games,\n",
        "        \"current_player\": current_players,\n",
        "        \"peak_player\": peak_players,\n",
        "        \"link\": link_games\n",
        "        }\n",
        "df = pd.DataFrame(data)"
      ]
    },
    {
      "cell_type": "code",
      "execution_count": 46,
      "metadata": {
        "id": "YcNlyZYExs3a"
      },
      "outputs": [],
      "source": [
        "# Close the browser\n",
        "driver.quit()"
      ]
    },
    {
      "cell_type": "code",
      "execution_count": 47,
      "metadata": {
        "id": "jBr5FE7aDNTH"
      },
      "outputs": [],
      "source": [
        "from selenium.common.exceptions import NoSuchElementException\n",
        "from selenium.webdriver.common.action_chains import ActionChains\n",
        "from selenium.webdriver.support.wait import WebDriverWait\n",
        "from selenium.webdriver.support import expected_conditions as EC"
      ]
    },
    {
      "cell_type": "code",
      "execution_count": 48,
      "metadata": {},
      "outputs": [],
      "source": [
        "from datetime import datetime\n",
        "\n",
        "now = datetime.now()\n",
        "\n",
        "dt_string = now.strftime(\"%d-%m-%Y_%H-%M-%S\")"
      ]
    },
    {
      "cell_type": "code",
      "execution_count": 49,
      "metadata": {
        "id": "BlTL60h2DX8M"
      },
      "outputs": [],
      "source": [
        "def check_exists_by_xpath(webdriver,xpath):\n",
        "    try:\n",
        "        webdriver.find_element(By.XPATH,xpath)\n",
        "    except NoSuchElementException:\n",
        "        return False\n",
        "    return True\n",
        "\n",
        "def check_exists_by_class(webdriver,classname):\n",
        "    try:\n",
        "        webdriver.find_element(By.CLASS_NAME,classname)\n",
        "    except NoSuchElementException:\n",
        "        return False\n",
        "    return True"
      ]
    },
    {
      "cell_type": "code",
      "execution_count": 50,
      "metadata": {
        "id": "TwWOtb2AB1TS"
      },
      "outputs": [],
      "source": [
        "chrome_options = webdriver.ChromeOptions()\n",
        "chrome_options.add_argument('--headless')\n",
        "chrome_options.add_argument('--no-sandbox')\n",
        "chrome_options.headless = True\n",
        "driver = webdriver.Chrome(options=chrome_options)"
      ]
    },
    {
      "cell_type": "code",
      "execution_count": 51,
      "metadata": {
        "id": "x-XF-bPkEfBH"
      },
      "outputs": [],
      "source": [
        "check_xpath='/html/body/div[1]/div[7]/div[6]/div/div[2]/div/div[1]/div[2]/select[3]'\n",
        "\n",
        "publisher_selector='#game_highlights > div.rightcol > div > div.glance_ctn_responsive_left > div:nth-child(4) > div.summary.column > a'\n",
        "system_requirements_xpath='/html/body/div[1]/div[7]/div[6]/div[3]/div[2]/div[1]/div[5]/div[2]/div[8]/div[1]/div[1]'\n",
        "\n",
        "os_system_requirements_xpath='/html/body/div[1]/div[7]/div[6]/div[3]/div[2]/div[1]/div[5]/div[2]/div[8]/div[1]/div[1]/div[1]'"
      ]
    },
    {
      "cell_type": "code",
      "execution_count": 52,
      "metadata": {
        "id": "hd45n1jcXFen"
      },
      "outputs": [],
      "source": [
        "list_game_detail=[]"
      ]
    },
    {
      "cell_type": "code",
      "execution_count": 53,
      "metadata": {
        "colab": {
          "base_uri": "https://localhost:8080/"
        },
        "id": "JTRSTe88Be_w",
        "outputId": "150fcc6b-98de-436e-a833-da3a272542c3"
      },
      "outputs": [
        {
          "name": "stdout",
          "output_type": "stream",
          "text": [
            "An error was encountered while processing your request:\n",
            "\n",
            "This item is currently unavailable in your region\n",
            "An error was encountered while processing your request:\n",
            "\n",
            "This item is currently unavailable in your region\n",
            "An error was encountered while processing your request:\n",
            "\n",
            "This item is currently unavailable in your region\n",
            "An error was encountered while processing your request:\n",
            "\n",
            "This item is currently unavailable in your region\n",
            "An error was encountered while processing your request:\n",
            "\n",
            "This item is currently unavailable in your region\n"
          ]
        }
      ],
      "source": [
        "miss=[]\n",
        "for i in range(len(df)):\n",
        "  game_detail={}\n",
        "  name=[]\n",
        "  try:\n",
        "    driver.get(df.link[i])\n",
        "    if check_exists_by_xpath(driver,check_xpath):\n",
        "      option=driver.find_element(By.XPATH,'/html/body/div[1]/div[7]/div[6]/div/div[2]/div/div[1]/div[2]/select[3]')\n",
        "      option.click()\n",
        "      option=driver.find_element(By.XPATH,'/html/body/div[1]/div[7]/div[6]/div/div[2]/div/div[1]/div[2]/select[3]/option[103]')\n",
        "      option.click()\n",
        "      option=driver.find_element(By.XPATH,'/html/body/div[1]/div[7]/div[6]/div/div[2]/div/div[1]/div[3]/div/a[1]')\n",
        "      option.click()\n",
        "\n",
        "    name=df.name[i]\n",
        "    genre=[element.text for element in driver.find_elements(By.CSS_SELECTOR, '#genresAndManufacturer > span')]\n",
        "    feature_list=[element.text for element in driver.find_elements(By.CLASS_NAME, 'label')]\n",
        "\n",
        "    if check_exists_by_class(driver,'all_languages'):\n",
        "      all_languages=driver.find_element(By.CLASS_NAME,'all_languages')\n",
        "      all_languages.click()\n",
        "    supported_languages=[element.text for element in driver.find_elements(By.CLASS_NAME, 'ellipsis')]\n",
        "\n",
        "    description=driver.find_element(By.CLASS_NAME, 'game_description_snippet').text\n",
        "\n",
        "    release_date=driver.find_element(By.CLASS_NAME, 'date').text\n",
        "    developer=driver.find_element(By.ID, 'developers_list').text\n",
        "    publisher=driver.find_element(By.CSS_SELECTOR, publisher_selector).text\n",
        "\n",
        "    num_curators=driver.find_element(By.CLASS_NAME, 'no_curators_followed').text\n",
        "\n",
        "\n",
        "    wait = WebDriverWait(driver, 10)\n",
        "    element = wait.until(EC.presence_of_element_located((By.CLASS_NAME,'user_reviews_filter_menu')))\n",
        "    elm=driver.find_element(By.CLASS_NAME,'user_reviews_filter_menu')\n",
        "    num_reviews=[]\n",
        "    action=ActionChains(driver)\n",
        "\n",
        "\n",
        "    num_reviews=['']\n",
        "    while len(num_reviews[0])==0:\n",
        "      action.move_to_element(elm)\n",
        "      action.perform()\n",
        "      num_reviews=[element.text for element in driver.find_elements(By.CSS_SELECTOR, '#reviews_filter_options > div:nth-child(1) > div.user_reviews_filter_menu_flyout > div')]\n",
        "\n",
        "\n",
        "    requirements=[]\n",
        "    if check_exists_by_xpath(driver,os_system_requirements_xpath):\n",
        "      system_requirements=[element.text for element in driver.find_elements(By.XPATH, system_requirements_xpath)]\n",
        "      l=len(system_requirements[0].split('\\n'))\n",
        "      cnt=1\n",
        "      while cnt<=l:\n",
        "        os_system_requirements_xpath=f'/html/body/div[1]/div[7]/div[6]/div[3]/div[2]/div[1]/div[5]/div[2]/div[8]/div[1]/div[1]/div[{cnt}]'\n",
        "        os_system_requirements=driver.find_element(By.XPATH, os_system_requirements_xpath)\n",
        "        action.click(os_system_requirements).perform()\n",
        "        detail_requirements_xpath=f'/html/body/div[1]/div[7]/div[6]/div[3]/div[2]/div[1]/div[5]/div[2]/div[8]/div[1]/div[2]/div[{cnt}]/div[1]'\n",
        "        detail_requirements=driver.find_element(By.XPATH, detail_requirements_xpath).text\n",
        "        requirements.append(detail_requirements)\n",
        "        cnt+=1\n",
        "    else:\n",
        "        single_os_requirements=driver.find_element(By.CLASS_NAME,'sysreq_contents').text\n",
        "        requirements.append(single_os_requirements)\n",
        "\n",
        "    game_detail={'name':name,\n",
        "                  'genre':genre,\n",
        "                  'description': description,\n",
        "                  'feature_list':feature_list,\n",
        "                  'supported_languages':supported_languages,\n",
        "                  'release_date':release_date,\n",
        "                  'developer':developer,\n",
        "                  'publisher':publisher,\n",
        "                  'num_curators':num_curators,\n",
        "                  'num_reviews':num_reviews,\n",
        "                  'requirements':requirements\n",
        "                  }\n",
        "    list_game_detail.append(game_detail)\n",
        "  except:\n",
        "    try:\n",
        "      error=driver.find_element(By.ID,'error_box').text\n",
        "      # print(error)\n",
        "      game_detail={'name':df.name[i],\n",
        "                  'genre':'0',\n",
        "                  'description': '0',\n",
        "                  'feature_list':'0',\n",
        "                  'supported_languages':'0',\n",
        "                  'release_date':'0',\n",
        "                  'developer':'0',\n",
        "                  'publisher':'0',\n",
        "                  'num_curators':'0',\n",
        "                  'num_reviews':'0',\n",
        "                  'requirements':'0'\n",
        "                  }\n",
        "      list_game_detail.append(game_detail)\n",
        "\n",
        "    except:\n",
        "      miss.append(i)\n",
        "      pass\n"
      ]
    },
    {
      "cell_type": "code",
      "execution_count": 54,
      "metadata": {
        "colab": {
          "base_uri": "https://localhost:8080/",
          "height": 1000
        },
        "id": "5_BHV660XDRg",
        "outputId": "f7a3eb22-463f-4d0e-d282-2bee7b406c31"
      },
      "outputs": [
        {
          "data": {
            "text/html": [
              "<div>\n",
              "<style scoped>\n",
              "    .dataframe tbody tr th:only-of-type {\n",
              "        vertical-align: middle;\n",
              "    }\n",
              "\n",
              "    .dataframe tbody tr th {\n",
              "        vertical-align: top;\n",
              "    }\n",
              "\n",
              "    .dataframe thead th {\n",
              "        text-align: right;\n",
              "    }\n",
              "</style>\n",
              "<table border=\"1\" class=\"dataframe\">\n",
              "  <thead>\n",
              "    <tr style=\"text-align: right;\">\n",
              "      <th></th>\n",
              "      <th>name</th>\n",
              "      <th>genre</th>\n",
              "      <th>description</th>\n",
              "      <th>feature_list</th>\n",
              "      <th>supported_languages</th>\n",
              "      <th>release_date</th>\n",
              "      <th>developer</th>\n",
              "      <th>publisher</th>\n",
              "      <th>num_curators</th>\n",
              "      <th>num_reviews</th>\n",
              "      <th>requirements</th>\n",
              "    </tr>\n",
              "  </thead>\n",
              "  <tbody>\n",
              "    <tr>\n",
              "      <th>0</th>\n",
              "      <td>Counter-Strike 2</td>\n",
              "      <td>[Action, Free to Play]</td>\n",
              "      <td>For over two decades, Counter-Strike has offer...</td>\n",
              "      <td>[Cross-Platform Multiplayer, Steam Trading Car...</td>\n",
              "      <td>[English, Czech, Danish, Dutch, Finnish, Frenc...</td>\n",
              "      <td>21 Aug, 2012</td>\n",
              "      <td>Valve</td>\n",
              "      <td>Valve</td>\n",
              "      <td>17,564 Curators have reviewed this product. Cl...</td>\n",
              "      <td>[All (7,686,243)\\nPositive (6,766,697)\\nNegati...</td>\n",
              "      <td>[MINIMUM:\\nOS: Windows® 10\\nProcessor: 4 hardw...</td>\n",
              "    </tr>\n",
              "    <tr>\n",
              "      <th>1</th>\n",
              "      <td>Dota 2</td>\n",
              "      <td>[Action, Strategy, Free to Play]</td>\n",
              "      <td>Every day, millions of players worldwide enter...</td>\n",
              "      <td>[Steam Trading Cards, Steam Workshop, SteamVR ...</td>\n",
              "      <td>[English, Bulgarian, Czech, Danish, Dutch, Fin...</td>\n",
              "      <td>10 Jul, 2013</td>\n",
              "      <td>Valve</td>\n",
              "      <td>Valve</td>\n",
              "      <td>5,123 Curators have reviewed this product. Cli...</td>\n",
              "      <td>[All (2,076,700)\\nPositive (1,705,517)\\nNegati...</td>\n",
              "      <td>[MINIMUM:\\nOS: Windows 7 or newer\\nProcessor: ...</td>\n",
              "    </tr>\n",
              "    <tr>\n",
              "      <th>2</th>\n",
              "      <td>PUBG: BATTLEGROUNDS</td>\n",
              "      <td>[Adventure, RPG, Strategy]</td>\n",
              "      <td>Baldur’s Gate 3 is a story-rich, party-based R...</td>\n",
              "      <td>[Single-player, Online Co-op, LAN Co-op, Steam...</td>\n",
              "      <td>[English, French, German, Spanish - Spain, Pol...</td>\n",
              "      <td>3 Aug, 2023</td>\n",
              "      <td>Larian Studios</td>\n",
              "      <td>Larian Studios</td>\n",
              "      <td>558 Curators have reviewed this product. Click...</td>\n",
              "      <td>[All (370,258)\\nPositive (355,348)\\nNegative (...</td>\n",
              "      <td>[MINIMUM:\\nRequires a 64-bit processor and ope...</td>\n",
              "    </tr>\n",
              "    <tr>\n",
              "      <th>3</th>\n",
              "      <td>Apex Legends™</td>\n",
              "      <td>[Action, Adventure, Free to Play]</td>\n",
              "      <td>Apex Legends is the award-winning, free-to-pla...</td>\n",
              "      <td>[Online PvP, Online Co-op, Steam Achievements,...</td>\n",
              "      <td>[English, French, Italian, German, Spanish - S...</td>\n",
              "      <td>5 Nov, 2020</td>\n",
              "      <td>Respawn Entertainment</td>\n",
              "      <td>Electronic Arts</td>\n",
              "      <td>935 Curators have reviewed this product. Click...</td>\n",
              "      <td>[All (732,373)\\nPositive (584,377)\\nNegative (...</td>\n",
              "      <td>[MINIMUM:\\nRequires a 64-bit processor and ope...</td>\n",
              "    </tr>\n",
              "    <tr>\n",
              "      <th>4</th>\n",
              "      <td>Team Fortress 2</td>\n",
              "      <td>[Action, Free to Play]</td>\n",
              "      <td>Nine distinct classes provide a broad range of...</td>\n",
              "      <td>[Cross-Platform Multiplayer, Steam Achievement...</td>\n",
              "      <td>[English, Danish, Dutch, Finnish, French, Germ...</td>\n",
              "      <td>10 Oct, 2007</td>\n",
              "      <td>Valve</td>\n",
              "      <td>Valve</td>\n",
              "      <td>9,467 Curators have reviewed this product. Cli...</td>\n",
              "      <td>[All (997,008)\\nPositive (936,120)\\nNegative (...</td>\n",
              "      <td>[MINIMUM:\\nOS: Windows® 7 (32/64-bit)/Vista/XP...</td>\n",
              "    </tr>\n",
              "    <tr>\n",
              "      <th>...</th>\n",
              "      <td>...</td>\n",
              "      <td>...</td>\n",
              "      <td>...</td>\n",
              "      <td>...</td>\n",
              "      <td>...</td>\n",
              "      <td>...</td>\n",
              "      <td>...</td>\n",
              "      <td>...</td>\n",
              "      <td>...</td>\n",
              "      <td>...</td>\n",
              "      <td>...</td>\n",
              "    </tr>\n",
              "    <tr>\n",
              "      <th>89</th>\n",
              "      <td>Albion Online</td>\n",
              "      <td>[Massively Multiplayer, RPG, Free to Play]</td>\n",
              "      <td>Albion Online is a fantasy sandbox MMORPG feat...</td>\n",
              "      <td>[MMO, Online PvP, Cross-Platform Multiplayer, ...</td>\n",
              "      <td>[English, French, German, Spanish - Spain, Por...</td>\n",
              "      <td>17 Jul, 2017</td>\n",
              "      <td>Sandbox Interactive GmbH</td>\n",
              "      <td>Sandbox Interactive GmbH</td>\n",
              "      <td>187 Curators have reviewed this product. Click...</td>\n",
              "      <td>[All (64,748)\\nPositive (51,431)\\nNegative (13...</td>\n",
              "      <td>[MINIMUM:\\nRequires a 64-bit processor and ope...</td>\n",
              "    </tr>\n",
              "    <tr>\n",
              "      <th>90</th>\n",
              "      <td>MY HERO ULTRA RUMBLE</td>\n",
              "      <td>[Action, Casual, Free to Play]</td>\n",
              "      <td>Pick your favorite character, team up and figh...</td>\n",
              "      <td>[Single-player, Online PvP, Online Co-op, Stea...</td>\n",
              "      <td>[English, Japanese, French, Italian, German, S...</td>\n",
              "      <td>29 Sep, 2023</td>\n",
              "      <td>Byking Inc.</td>\n",
              "      <td>Bandai Namco Entertainment</td>\n",
              "      <td>27 Curators have reviewed this product. Click ...</td>\n",
              "      <td>[All (10,262)\\nPositive (6,654)\\nNegative (3,6...</td>\n",
              "      <td>[MINIMUM:\\nRequires a 64-bit processor and ope...</td>\n",
              "    </tr>\n",
              "    <tr>\n",
              "      <th>91</th>\n",
              "      <td>Age of Empires IV: Anniversary Edition</td>\n",
              "      <td>[Strategy]</td>\n",
              "      <td>Celebrating its first year of delighting milli...</td>\n",
              "      <td>[Single-player, Online PvP, Online Co-op, Cros...</td>\n",
              "      <td>[English, French, Italian, German, Spanish - S...</td>\n",
              "      <td>28 Oct, 2021</td>\n",
              "      <td>Relic Entertainment, Forgotten Empires, Climax...</td>\n",
              "      <td>Xbox Game Studios</td>\n",
              "      <td>221 Curators have reviewed this product. Click...</td>\n",
              "      <td>[All (56,666)\\nPositive (49,011)\\nNegative (7,...</td>\n",
              "      <td>[MINIMUM:\\nRequires a 64-bit processor and ope...</td>\n",
              "    </tr>\n",
              "    <tr>\n",
              "      <th>92</th>\n",
              "      <td>MARVEL SNAP</td>\n",
              "      <td>[Casual, Strategy, Free to Play]</td>\n",
              "      <td>MARVEL SNAP is a fast-paced Collectible Card G...</td>\n",
              "      <td>[Online PvP, Cross-Platform Multiplayer, In-Ap...</td>\n",
              "      <td>[English, French, Italian, German, Spanish - S...</td>\n",
              "      <td>23 Aug, 2023</td>\n",
              "      <td>Second Dinner Studios, Inc.</td>\n",
              "      <td>Nuverse</td>\n",
              "      <td>101 Curators have reviewed this product. Click...</td>\n",
              "      <td>[All (18,959)\\nPositive (15,684)\\nNegative (3,...</td>\n",
              "      <td>[MINIMUM:\\nOS: Windows 7 (SP1+)\\nProcessor: In...</td>\n",
              "    </tr>\n",
              "    <tr>\n",
              "      <th>93</th>\n",
              "      <td>World of Tanks Blitz</td>\n",
              "      <td>[Action, Massively Multiplayer, Free to Play]</td>\n",
              "      <td>Become a hero in our new story as Blitz is lau...</td>\n",
              "      <td>[MMO, Online PvP, Online Co-op, Cross-Platform...</td>\n",
              "      <td>[English, French, Italian, German, Spanish - S...</td>\n",
              "      <td>9 Nov, 2016</td>\n",
              "      <td>Wargaming Group Limited</td>\n",
              "      <td>Wargaming Group Limited</td>\n",
              "      <td>163 Curators have reviewed this product. Click...</td>\n",
              "      <td>[All (132,443)\\nPositive (106,090)\\nNegative (...</td>\n",
              "      <td>[MINIMUM:\\nOS: Windows 7, 8.0, 8.1, 10 \\nProce...</td>\n",
              "    </tr>\n",
              "  </tbody>\n",
              "</table>\n",
              "<p>94 rows × 11 columns</p>\n",
              "</div>"
            ],
            "text/plain": [
              "                                      name  \\\n",
              "0                         Counter-Strike 2   \n",
              "1                                   Dota 2   \n",
              "2                      PUBG: BATTLEGROUNDS   \n",
              "3                            Apex Legends™   \n",
              "4                          Team Fortress 2   \n",
              "..                                     ...   \n",
              "89                           Albion Online   \n",
              "90                    MY HERO ULTRA RUMBLE   \n",
              "91  Age of Empires IV: Anniversary Edition   \n",
              "92                             MARVEL SNAP   \n",
              "93                    World of Tanks Blitz   \n",
              "\n",
              "                                            genre  \\\n",
              "0                          [Action, Free to Play]   \n",
              "1                [Action, Strategy, Free to Play]   \n",
              "2                      [Adventure, RPG, Strategy]   \n",
              "3               [Action, Adventure, Free to Play]   \n",
              "4                          [Action, Free to Play]   \n",
              "..                                            ...   \n",
              "89     [Massively Multiplayer, RPG, Free to Play]   \n",
              "90                 [Action, Casual, Free to Play]   \n",
              "91                                     [Strategy]   \n",
              "92               [Casual, Strategy, Free to Play]   \n",
              "93  [Action, Massively Multiplayer, Free to Play]   \n",
              "\n",
              "                                          description  \\\n",
              "0   For over two decades, Counter-Strike has offer...   \n",
              "1   Every day, millions of players worldwide enter...   \n",
              "2   Baldur’s Gate 3 is a story-rich, party-based R...   \n",
              "3   Apex Legends is the award-winning, free-to-pla...   \n",
              "4   Nine distinct classes provide a broad range of...   \n",
              "..                                                ...   \n",
              "89  Albion Online is a fantasy sandbox MMORPG feat...   \n",
              "90  Pick your favorite character, team up and figh...   \n",
              "91  Celebrating its first year of delighting milli...   \n",
              "92  MARVEL SNAP is a fast-paced Collectible Card G...   \n",
              "93  Become a hero in our new story as Blitz is lau...   \n",
              "\n",
              "                                         feature_list  \\\n",
              "0   [Cross-Platform Multiplayer, Steam Trading Car...   \n",
              "1   [Steam Trading Cards, Steam Workshop, SteamVR ...   \n",
              "2   [Single-player, Online Co-op, LAN Co-op, Steam...   \n",
              "3   [Online PvP, Online Co-op, Steam Achievements,...   \n",
              "4   [Cross-Platform Multiplayer, Steam Achievement...   \n",
              "..                                                ...   \n",
              "89  [MMO, Online PvP, Cross-Platform Multiplayer, ...   \n",
              "90  [Single-player, Online PvP, Online Co-op, Stea...   \n",
              "91  [Single-player, Online PvP, Online Co-op, Cros...   \n",
              "92  [Online PvP, Cross-Platform Multiplayer, In-Ap...   \n",
              "93  [MMO, Online PvP, Online Co-op, Cross-Platform...   \n",
              "\n",
              "                                  supported_languages  release_date  \\\n",
              "0   [English, Czech, Danish, Dutch, Finnish, Frenc...  21 Aug, 2012   \n",
              "1   [English, Bulgarian, Czech, Danish, Dutch, Fin...  10 Jul, 2013   \n",
              "2   [English, French, German, Spanish - Spain, Pol...   3 Aug, 2023   \n",
              "3   [English, French, Italian, German, Spanish - S...   5 Nov, 2020   \n",
              "4   [English, Danish, Dutch, Finnish, French, Germ...  10 Oct, 2007   \n",
              "..                                                ...           ...   \n",
              "89  [English, French, German, Spanish - Spain, Por...  17 Jul, 2017   \n",
              "90  [English, Japanese, French, Italian, German, S...  29 Sep, 2023   \n",
              "91  [English, French, Italian, German, Spanish - S...  28 Oct, 2021   \n",
              "92  [English, French, Italian, German, Spanish - S...  23 Aug, 2023   \n",
              "93  [English, French, Italian, German, Spanish - S...   9 Nov, 2016   \n",
              "\n",
              "                                            developer  \\\n",
              "0                                               Valve   \n",
              "1                                               Valve   \n",
              "2                                      Larian Studios   \n",
              "3                               Respawn Entertainment   \n",
              "4                                               Valve   \n",
              "..                                                ...   \n",
              "89                           Sandbox Interactive GmbH   \n",
              "90                                        Byking Inc.   \n",
              "91  Relic Entertainment, Forgotten Empires, Climax...   \n",
              "92                        Second Dinner Studios, Inc.   \n",
              "93                            Wargaming Group Limited   \n",
              "\n",
              "                     publisher  \\\n",
              "0                        Valve   \n",
              "1                        Valve   \n",
              "2               Larian Studios   \n",
              "3              Electronic Arts   \n",
              "4                        Valve   \n",
              "..                         ...   \n",
              "89    Sandbox Interactive GmbH   \n",
              "90  Bandai Namco Entertainment   \n",
              "91           Xbox Game Studios   \n",
              "92                     Nuverse   \n",
              "93     Wargaming Group Limited   \n",
              "\n",
              "                                         num_curators  \\\n",
              "0   17,564 Curators have reviewed this product. Cl...   \n",
              "1   5,123 Curators have reviewed this product. Cli...   \n",
              "2   558 Curators have reviewed this product. Click...   \n",
              "3   935 Curators have reviewed this product. Click...   \n",
              "4   9,467 Curators have reviewed this product. Cli...   \n",
              "..                                                ...   \n",
              "89  187 Curators have reviewed this product. Click...   \n",
              "90  27 Curators have reviewed this product. Click ...   \n",
              "91  221 Curators have reviewed this product. Click...   \n",
              "92  101 Curators have reviewed this product. Click...   \n",
              "93  163 Curators have reviewed this product. Click...   \n",
              "\n",
              "                                          num_reviews  \\\n",
              "0   [All (7,686,243)\\nPositive (6,766,697)\\nNegati...   \n",
              "1   [All (2,076,700)\\nPositive (1,705,517)\\nNegati...   \n",
              "2   [All (370,258)\\nPositive (355,348)\\nNegative (...   \n",
              "3   [All (732,373)\\nPositive (584,377)\\nNegative (...   \n",
              "4   [All (997,008)\\nPositive (936,120)\\nNegative (...   \n",
              "..                                                ...   \n",
              "89  [All (64,748)\\nPositive (51,431)\\nNegative (13...   \n",
              "90  [All (10,262)\\nPositive (6,654)\\nNegative (3,6...   \n",
              "91  [All (56,666)\\nPositive (49,011)\\nNegative (7,...   \n",
              "92  [All (18,959)\\nPositive (15,684)\\nNegative (3,...   \n",
              "93  [All (132,443)\\nPositive (106,090)\\nNegative (...   \n",
              "\n",
              "                                         requirements  \n",
              "0   [MINIMUM:\\nOS: Windows® 10\\nProcessor: 4 hardw...  \n",
              "1   [MINIMUM:\\nOS: Windows 7 or newer\\nProcessor: ...  \n",
              "2   [MINIMUM:\\nRequires a 64-bit processor and ope...  \n",
              "3   [MINIMUM:\\nRequires a 64-bit processor and ope...  \n",
              "4   [MINIMUM:\\nOS: Windows® 7 (32/64-bit)/Vista/XP...  \n",
              "..                                                ...  \n",
              "89  [MINIMUM:\\nRequires a 64-bit processor and ope...  \n",
              "90  [MINIMUM:\\nRequires a 64-bit processor and ope...  \n",
              "91  [MINIMUM:\\nRequires a 64-bit processor and ope...  \n",
              "92  [MINIMUM:\\nOS: Windows 7 (SP1+)\\nProcessor: In...  \n",
              "93  [MINIMUM:\\nOS: Windows 7, 8.0, 8.1, 10 \\nProce...  \n",
              "\n",
              "[94 rows x 11 columns]"
            ]
          },
          "execution_count": 54,
          "metadata": {},
          "output_type": "execute_result"
        }
      ],
      "source": [
        "list_game_detail_df=pd.DataFrame(list_game_detail)\n",
        "list_game_detail_df"
      ]
    },
    {
      "cell_type": "code",
      "execution_count": 56,
      "metadata": {},
      "outputs": [],
      "source": [
        "merge=df.merge(list_game_detail_df, left_on='name', right_on='name')\n",
        "merge.to_json(f'./{dt_string}.json',orient=\"index\",indent=2)\n"
      ]
    },
    {
      "cell_type": "code",
      "execution_count": null,
      "metadata": {
        "id": "ArlSJGO8YLpf"
      },
      "outputs": [],
      "source": []
    },
    {
      "cell_type": "code",
      "execution_count": null,
      "metadata": {},
      "outputs": [],
      "source": []
    }
  ],
  "metadata": {
    "accelerator": "TPU",
    "colab": {
      "provenance": []
    },
    "kernelspec": {
      "display_name": "Python 3 (ipykernel)",
      "language": "python",
      "name": "python3"
    },
    "language_info": {
      "codemirror_mode": {
        "name": "ipython",
        "version": 3
      },
      "file_extension": ".py",
      "mimetype": "text/x-python",
      "name": "python",
      "nbconvert_exporter": "python",
      "pygments_lexer": "ipython3",
      "version": "3.10.6"
    }
  },
  "nbformat": 4,
  "nbformat_minor": 0
}
